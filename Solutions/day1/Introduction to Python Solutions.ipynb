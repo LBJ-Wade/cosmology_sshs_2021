{
 "cells": [
  {
   "cell_type": "markdown",
   "metadata": {},
   "source": [
    "# The Code in an ipython notebook can be run live! Just hit \"Shift + Enter\" after highlighting a code block and it will be run and the variable values will be saved in the environment. "
   ]
  },
  {
   "cell_type": "markdown",
   "metadata": {},
   "source": [
    "# Lab 1: Python Basics"
   ]
  },
  {
   "cell_type": "markdown",
   "metadata": {},
   "source": [
    "In this notebook, we introduce the user to the following.\n",
    "* The python programming language,\n",
    "* The Numpy library; a useful mathematical library that can be used to perform lots of numerical calculations in python and contains the numpy array class which is indespensible for storing arrays of data.\n",
    "* Matplotlib, a library that can be used for plotting.\n",
    "\n",
    "In this notebook, we will start with an outline of variables and types in python and how to declare them and how to write simple programs."
   ]
  },
  {
   "cell_type": "markdown",
   "metadata": {},
   "source": [
    "## Why write Programs?"
   ]
  },
  {
   "cell_type": "markdown",
   "metadata": {},
   "source": [
    "There are many reasons we use computer programs to address problems in astronomy and physics. A few of them are\n",
    "* Analyzing Large Data-Sets. data-sets in experimental physics and astronomy have become enormous; often many peta-bytes. For example, the large Synoptic Survey Telescope is expected to generate 1.28 peta-bytes of data per year. This is far to much data to store in non-digital form and analyzing this data without computers would be completely hopeless. \n",
    "* Numerical Solutions to Hard Problems. While many of the math problems you encounter in school have closed solutions (simple algebraic solutions that you can write down on a sheet of paper), most problems in physics do not admit closed form. Often the best solution to a problem you can find is to write down a differential equation with no closed solution that must be evaluated numerically which is most conveniently done with a computer. \n",
    "* Programming allows you to create customized tools to analyze data and solve numerical and theoretical problems. "
   ]
  },
  {
   "cell_type": "markdown",
   "metadata": {},
   "source": [
    "## Variable Types in Python."
   ]
  },
  {
   "cell_type": "markdown",
   "metadata": {},
   "source": [
    "Python allows users to store different types of variables in memory which can be used to perform calculations later on. Types of data in python include integers, strings, floats, booleans, and lists which we will cover here. Python has even more types and many more ways of manipulating them then we will cover. If you are interested in seeing a more complete description, it may be found at\n",
    "\n",
    "https://docs.python.org/3/library/stdtypes.html"
   ]
  },
  {
   "cell_type": "markdown",
   "metadata": {},
   "source": [
    "### Integers"
   ]
  },
  {
   "cell_type": "markdown",
   "metadata": {},
   "source": [
    "In python, integers are by default 32 bit numbers but the number of bits is automatically changed under-the-hood to prevent overflows if your integer becomes too large to be represented by 32 bits. Python will automatically treat variables declared equal to a number without a decimal point as an integer. To check the type of a variable, use use the *type* command (shown below).\n",
    "\n",
    "Let's begin by declaring two integers and performing some arithmetic. \n",
    "\n",
    "To run the code below, click on the cell and press *shift + enter*."
   ]
  },
  {
   "cell_type": "code",
   "execution_count": 1,
   "metadata": {},
   "outputs": [
    {
     "name": "stdout",
     "output_type": "stream",
     "text": [
      "<type 'int'>\n",
      "96\n"
     ]
    }
   ],
   "source": [
    "x=32\n",
    "y=64\n",
    "z=x+y\n",
    "print(type(z))\n",
    "print(z)"
   ]
  },
  {
   "cell_type": "markdown",
   "metadata": {},
   "source": [
    "When you divide two integers you will get another integer. Python automatically rounds down for mathematical operations on multiple integers.\n",
    "\n",
    "To run the code below, click on the cell and press *shift + enter*."
   ]
  },
  {
   "cell_type": "code",
   "execution_count": 2,
   "metadata": {},
   "outputs": [
    {
     "name": "stdout",
     "output_type": "stream",
     "text": [
      "<type 'int'>\n",
      "0\n"
     ]
    }
   ],
   "source": [
    "x=32\n",
    "y=64\n",
    "z=x/y\n",
    "print(type(z))\n",
    "print(z)"
   ]
  },
  {
   "cell_type": "markdown",
   "metadata": {},
   "source": [
    "### Floats"
   ]
  },
  {
   "cell_type": "markdown",
   "metadata": {},
   "source": [
    "Floats are stored as 64 bit numbers by default. To declare a float, you just need to include a decimal after the number in a variable declaration. Alternatively, you can write *float* with parenthesis around the value of the variable.\n",
    "\n",
    "To run the code below, click on the cell and press *shift + enter*."
   ]
  },
  {
   "cell_type": "code",
   "execution_count": 3,
   "metadata": {},
   "outputs": [
    {
     "name": "stdout",
     "output_type": "stream",
     "text": [
      "<type 'float'>\n",
      "0.5\n"
     ]
    }
   ],
   "source": [
    "x=32.\n",
    "y=float(64)\n",
    "z=x/y\n",
    "print(type(z))\n",
    "print(z)"
   ]
  },
  {
   "cell_type": "markdown",
   "metadata": {},
   "source": [
    "### Arithmatic"
   ]
  },
  {
   "cell_type": "markdown",
   "metadata": {},
   "source": [
    "Arithmatic can be performed with '+' for addition, '-' for subtraction, '\\*' for multiplication, and '\\*\\*' for exponentiation.\n",
    "\n",
    "To run the code below, click on the cell and press *shift + enter*."
   ]
  },
  {
   "cell_type": "code",
   "execution_count": 4,
   "metadata": {},
   "outputs": [
    {
     "name": "stdout",
     "output_type": "stream",
     "text": [
      "1.41421356237\n",
      "7.0\n",
      "0.2\n",
      "20.0\n"
     ]
    }
   ],
   "source": [
    "print(2.**(0.5))\n",
    "print(2.+5.)\n",
    "print(2./10.)\n",
    "print(2.*10.)"
   ]
  },
  {
   "cell_type": "markdown",
   "metadata": {},
   "source": [
    "### Booleans"
   ]
  },
  {
   "cell_type": "markdown",
   "metadata": {},
   "source": [
    "Boolean variables are used for storing logic and have two values, *True* and *False*. You can declare a boolean by setting it equal to 'True' or 'False'. Python allows for logical operations on booleans which we demonstrate below. Booleans are often used for program flow control as we will see below. \n",
    "\n",
    "To run the code below, click on the cell and press *shift + enter*."
   ]
  },
  {
   "cell_type": "code",
   "execution_count": 5,
   "metadata": {},
   "outputs": [
    {
     "name": "stdout",
     "output_type": "stream",
     "text": [
      "False\n",
      "True\n",
      "False\n"
     ]
    }
   ],
   "source": [
    "x=True\n",
    "y=False\n",
    "z=True\n",
    "print(x and y)\n",
    "print(x or y)\n",
    "print(not x or y)"
   ]
  },
  {
   "cell_type": "markdown",
   "metadata": {},
   "source": [
    "## Sequence Types"
   ]
  },
  {
   "cell_type": "markdown",
   "metadata": {},
   "source": [
    "### Lists"
   ]
  },
  {
   "cell_type": "markdown",
   "metadata": {},
   "source": [
    "We often wish to store many variables of the same type and have a way of accessing them quickly. For example, suppose we want to store the ages of 1000 survey participants or record the brightness of two million galaxies. In situations like this, it would be very cumbersome to declare millions of different variables for each galaxy; each with a different name and keeping track of the names would be a huge headache. For situations like this; python gives us the *list* variable. \n",
    "\n",
    "To declare a list, use a parenthesis and enter each value of the list separated by commas. \n",
    "\n",
    "To run the code below, click on the cell and press *shift + enter*."
   ]
  },
  {
   "cell_type": "code",
   "execution_count": 6,
   "metadata": {},
   "outputs": [
    {
     "name": "stdout",
     "output_type": "stream",
     "text": [
      "<type 'list'>\n",
      "[0.0, 1.0, 2.0, 3.0, 4.0, 5.0]\n",
      "[10.0, 9.0, 11.0]\n"
     ]
    }
   ],
   "source": [
    "x=[0.,1.,2.,3.,4.,5.]\n",
    "y=[10.,9.,11.]\n",
    "print(type(x))\n",
    "print(x)\n",
    "print(y)"
   ]
  },
  {
   "cell_type": "markdown",
   "metadata": {},
   "source": [
    "To access individual elements of the list, we use the notation 'list_name[index]' where *list_name* is the name of the list variable and *index* is the number of elements in the item is from the beginning of the list. Lists in python use *0-based* indexing which means that the first element of a list is assigned the index '0' and the last element of a list with length n has index n-1. \n",
    "\n",
    "You can access a range of values from a list using the notation 'list_name[index0:index1]' which will give all elements including the element at index 0 up to the element at index1-1 (the element at index1 is not selected). If the number provided in index1 is greater than the length of the array, you will get elements up to the end of the array.\n",
    "\n",
    "Negative indexing is also supported, a negative index gives the element -n elements from the end of the array. \n",
    "\n",
    "You can concatenate lists together by using the '+' operator. "
   ]
  },
  {
   "cell_type": "code",
   "execution_count": 7,
   "metadata": {},
   "outputs": [
    {
     "name": "stdout",
     "output_type": "stream",
     "text": [
      "<type 'list'>\n",
      "<type 'list'>\n",
      "0.0\n",
      "10.0\n",
      "1.0\n",
      "5.0\n",
      "4.0\n",
      "[1.0, 2.0]\n",
      "[1.0, 2.0, 3.0, 4.0, 5.0]\n",
      "<type 'list'>\n",
      "[0.0, 1.0, 2.0, 3.0, 4.0, 5.0, 10.0, 9.0, 11.0]\n",
      "[2.0, 3.0]\n"
     ]
    }
   ],
   "source": [
    "x=[0.,1.,2.,3.,4.,5.]\n",
    "y=[10.,9.,11.]\n",
    "print(type(x))\n",
    "print(type(y))\n",
    "print(x[0])\n",
    "print(y[0])\n",
    "print(x[1])\n",
    "print(x[-1])\n",
    "print(x[-2])\n",
    "print(x[1:3])\n",
    "print(x[1:10])\n",
    "z=x+y\n",
    "print(type(z))\n",
    "print(z)\n",
    "m=z[2:4]\n",
    "print(m)"
   ]
  },
  {
   "cell_type": "markdown",
   "metadata": {},
   "source": [
    "### Strings"
   ]
  },
  {
   "cell_type": "markdown",
   "metadata": {},
   "source": [
    "Strings are variables for storing text data. You can declare a string by putting quotes around the value of the variable or putting str() around the value.\n",
    "\n",
    "Strings can be concatenated with the '+' command. \n",
    "\n",
    "You can access substrings in the same way that you access sub-arrays with the notation *string_name[index1:index2]*.\n",
    "\n",
    "For more information on strings and their manipulation, see https://docs.python.org/3/library/string.html\n",
    "\n",
    "To run the code below, click on the cell and press *shift + enter*."
   ]
  },
  {
   "cell_type": "code",
   "execution_count": 8,
   "metadata": {},
   "outputs": [
    {
     "name": "stdout",
     "output_type": "stream",
     "text": [
      "hello world\n",
      "h\n",
      "d\n",
      "ll\n"
     ]
    }
   ],
   "source": [
    "x='hello'\n",
    "y='world'\n",
    "z=x+' '+y\n",
    "print(z)\n",
    "print(x[0])\n",
    "print(y[-1])\n",
    "print(z[2:4])"
   ]
  },
  {
   "cell_type": "markdown",
   "metadata": {},
   "source": [
    "## Program Control"
   ]
  },
  {
   "cell_type": "markdown",
   "metadata": {},
   "source": [
    "Thus far, we have the tools necessary to write down a series of deterministic operations on a set of data. However, we often want to be able to let our program make decisions. For example, we might want to make a program that reminds us to do something depending on the time of the day. Decision making in programs is often governed by if statements. "
   ]
  },
  {
   "cell_type": "markdown",
   "metadata": {},
   "source": [
    "### If Statements"
   ]
  },
  {
   "cell_type": "markdown",
   "metadata": {},
   "source": [
    "In python, we write ```if``` statements as \n",
    "\n",
    "```\n",
    "if condition :\n",
    "    indentedStatementBlock\n",
    "```\n",
    "    \n",
    "when this code executes, the computer checks whether the condition is True and executes the code in the indented code block if ```condition``` evaluates as True. If we want to tell the computer to do something else if the code block evaluates as False, we can use the ```else``` statement. \n",
    "\n",
    "```\n",
    "if condition :\n",
    "    indentedStatementBlock1\n",
    "else:\n",
    "    indentedStatementBlock2\n",
    "```\n",
    "\n",
    "We might even have a case where we want to write an if statement after the else. For example, we might have a program that checks whether you are a child, teenager, or adult based on your age. If the program determined you were not a child, it would have to evaluate additional if statmenets to determine if you are a teenager or adult. For this, we can use the ```elif```. \n",
    "\n",
    "```\n",
    "if condition1 :\n",
    "    indentedStatementBlock1\n",
    "elif condition2 : \n",
    "    indentedStatementBlock2\n",
    "else:\n",
    "    indentedStatementBlock3\n",
    "```\n",
    "Below is a simple example that demonstrates the if statement. Try changing the value of ```hour``` to see how the output changes. "
   ]
  },
  {
   "cell_type": "code",
   "execution_count": 9,
   "metadata": {},
   "outputs": [
    {
     "name": "stdout",
     "output_type": "stream",
     "text": [
      "good evening.\n"
     ]
    }
   ],
   "source": [
    "hour = 19.\n",
    "\n",
    "if hour <= 12:\n",
    "    print('good morning')\n",
    "elif hour >=12 and hour<=17:\n",
    "    print('good afternoon')\n",
    "else:\n",
    "    print('good evening.')"
   ]
  },
  {
   "cell_type": "markdown",
   "metadata": {},
   "source": [
    "### Loops"
   ]
  },
  {
   "cell_type": "markdown",
   "metadata": {},
   "source": [
    "Suppose we have a large set of data and we want to perform an operation on each element of that set. For example, maybe we have some data from a particle physics detector that gives us the velocity of an outgoing proton for a millin different events and we want to calculate the momentum for each of the one million protons. In a situation like this, we wouldn't want to write a block of code that performs the calculation for each of our one million events. Instead, we would use what is known as a loop.\n",
    "\n",
    "python loops come in two primary flavors. ```for``` loops and ```while``` loops. \n",
    "\n",
    "To run the code below, click on the cell and press *shift + enter*."
   ]
  },
  {
   "cell_type": "markdown",
   "metadata": {},
   "source": [
    "#### While Loops"
   ]
  },
  {
   "cell_type": "markdown",
   "metadata": {},
   "source": [
    "While loops have the structure\n",
    "```\n",
    "while condition : \n",
    "    indentedStatementBlock\n",
    "```\n",
    "the code in ```indentedStatementBlock``` will be executed over and over again ```while``` condition is True. This can lead to infinite loops if you are careless. \n",
    "\n",
    "The following code evaluates the factorial of integer ```n```. We create a variable called ```factorial``` which stores our answer, start it out as 1, and during each evaluate of indented block, we multiply factorial by ```n``` and subtract 1. The code is executed repeatedly until n equals zero, leaving us with our answer. \n",
    "\n",
    "To run the code below, click on the cell and press *shift + enter*."
   ]
  },
  {
   "cell_type": "code",
   "execution_count": 10,
   "metadata": {},
   "outputs": [
    {
     "name": "stdout",
     "output_type": "stream",
     "text": [
      "120\n"
     ]
    }
   ],
   "source": [
    "n=5\n",
    "factorial=1\n",
    "while n>0:\n",
    "    factorial = factorial*n\n",
    "    n=n-1\n",
    "print(factorial)"
   ]
  },
  {
   "cell_type": "markdown",
   "metadata": {},
   "source": [
    "When we increment ```n``` in our while loop, it can be convenient to use the notation ```n+=i``` which is equivalent to ```n=n+i``` for some number ```i```. \n",
    "\n",
    "To run the code below, click on the cell and press *shift + enter*."
   ]
  },
  {
   "cell_type": "code",
   "execution_count": 11,
   "metadata": {},
   "outputs": [
    {
     "name": "stdout",
     "output_type": "stream",
     "text": [
      "120\n"
     ]
    }
   ],
   "source": [
    "n=5\n",
    "factorial=1\n",
    "while n>0:\n",
    "    factorial = factorial*n\n",
    "    n+=-1\n",
    "print(factorial)"
   ]
  },
  {
   "cell_type": "markdown",
   "metadata": {},
   "source": [
    "and here is a while loop that multiplies the elements in array ```a``` by the elements in array ```b```.\n",
    "\n",
    "To run the code below, click on the cell and press *shift + enter*."
   ]
  },
  {
   "cell_type": "code",
   "execution_count": 12,
   "metadata": {},
   "outputs": [
    {
     "name": "stdout",
     "output_type": "stream",
     "text": [
      "5\n",
      "18\n",
      "28\n",
      "18\n",
      "260\n",
      "156\n",
      "[5, 18, 28, 18, 260, 156]\n"
     ]
    }
   ],
   "source": [
    "a=[1,3,4,9,20,13]\n",
    "b=[5,6,7,2,13,12]\n",
    "c=[0,0,0,0,0,0]\n",
    "n=0\n",
    "while n<len(a):\n",
    "    c[n]=a[n]*b[n]\n",
    "    print(c[n])\n",
    "    n+=1\n",
    "print(c)"
   ]
  },
  {
   "cell_type": "markdown",
   "metadata": {},
   "source": [
    "In the above example we used a function called ```len``` which when applied to a list, returns the length of that list. For example ```len([a,b,c])``` will return 3. "
   ]
  },
  {
   "cell_type": "markdown",
   "metadata": {},
   "source": [
    "#### For Loops"
   ]
  },
  {
   "cell_type": "markdown",
   "metadata": {},
   "source": [
    "Another type of loop that is commonly used is the ```for``` loop. It has the form\n",
    "```\n",
    "for item in list:\n",
    "    indentedStatementBlock\n",
    "```\n",
    "The ```for``` loop will iterate through each item in ```list``` and execute the indented statement block. Here is the factorial example coded as a for loop.\n",
    "\n",
    "To run the code below, click on the cell and press *shift + enter*."
   ]
  },
  {
   "cell_type": "code",
   "execution_count": 13,
   "metadata": {},
   "outputs": [
    {
     "name": "stdout",
     "output_type": "stream",
     "text": [
      "120\n"
     ]
    }
   ],
   "source": [
    "factorial=1\n",
    "nlist=[1,2,3,4,5]\n",
    "for m in nlist:\n",
    "    factorial=factorial*m\n",
    "print(factorial)"
   ]
  },
  {
   "cell_type": "markdown",
   "metadata": {},
   "source": [
    "There is a handy function for generating lists like ```nlist``` in the above example. It's called the ```range``` function.\n",
    "\n",
    "```range(n)``` returns a list of integers from 0 and n-1 (inclusive). \n",
    "\n",
    "```range(m,n)``` returns a list of integers from m to n-1 (inclusive).\n",
    "\n",
    "we can therfore write the above example more generally as follows. \n",
    "\n",
    "To run the code below, click on the cell and press *shift + enter*."
   ]
  },
  {
   "cell_type": "code",
   "execution_count": 14,
   "metadata": {},
   "outputs": [
    {
     "name": "stdout",
     "output_type": "stream",
     "text": [
      "120\n"
     ]
    }
   ],
   "source": [
    "n=5\n",
    "factorial=1\n",
    "nlist=range(1,n+1)\n",
    "for m in nlist:\n",
    "    factorial=factorial*m\n",
    "print(factorial)"
   ]
  },
  {
   "cell_type": "markdown",
   "metadata": {},
   "source": [
    "There are lots of additional useful ways that you can define loops in python. Many examples can be found at"
   ]
  },
  {
   "cell_type": "markdown",
   "metadata": {},
   "source": [
    "## Functions"
   ]
  },
  {
   "cell_type": "markdown",
   "metadata": {},
   "source": [
    "In many cases, we will write a piece of code that we want to use over and over again. For example, suppose we write some code that finds the mean for a list of numbers"
   ]
  },
  {
   "cell_type": "code",
   "execution_count": 15,
   "metadata": {},
   "outputs": [
    {
     "name": "stdout",
     "output_type": "stream",
     "text": [
      "9.06\n"
     ]
    }
   ],
   "source": [
    "numbers=[1.,10.,13.,12.5,8.8]\n",
    "mean=0.\n",
    "for m in range(len(numbers)):\n",
    "    mean=mean+numbers[m]\n",
    "mean=mean/(m+1)\n",
    "print(mean)"
   ]
  },
  {
   "cell_type": "markdown",
   "metadata": {},
   "source": [
    "what if we were tasked with computing the mean for one hundred sets of numbers? Then if we did things the way we just did above, we would have to define ```numbers``` over and over again to equal the set whose mean we wanted to compute and then we would have to copy the for-loop code for each instance, one hundred times... a very tedious undertaking. In a situation like this, we would want to define a *function*. We've already been using some pre-defined functions that are built into python such as ```len``` and ```range```. A function is a self-contained piece of code that performs a specific task on its inputs and often will return some sort of output. "
   ]
  },
  {
   "cell_type": "markdown",
   "metadata": {},
   "source": [
    "### Calling a function"
   ]
  },
  {
   "cell_type": "markdown",
   "metadata": {},
   "source": [
    "To call a function, we use the syntax\n",
    "```\n",
    "function_name(input1,input2,input3,...)\n",
    "```\n",
    "For example, ```range(10)``` executes a pre-defined function called ```range``` where ```input1=10```. ```len([a,b])``` executed a pre-defined function called ```len``` where ```input1=[a,b]```.\n",
    "\n",
    "Let's learn how we can write our own functions."
   ]
  },
  {
   "cell_type": "markdown",
   "metadata": {},
   "source": [
    "### Defining a function"
   ]
  },
  {
   "cell_type": "markdown",
   "metadata": {},
   "source": [
    "to define a function, use the syntax\n",
    "```\n",
    "def function_name(input_name1,input_name2,...)\n",
    "    indentedCodeBlock\n",
    "```\n",
    "where ```indentedCodeBlock``` is code which performs operations on your input variables.\n",
    "\n",
    "Here is a simple function that prints the mean of the numbers in a list in our example above. "
   ]
  },
  {
   "cell_type": "code",
   "execution_count": 16,
   "metadata": {},
   "outputs": [
    {
     "name": "stdout",
     "output_type": "stream",
     "text": [
      "9.06\n",
      "49\n"
     ]
    }
   ],
   "source": [
    "def average(my_list):\n",
    "    x=0\n",
    "    for m in range(len(my_list)):\n",
    "        x+=my_list[m]\n",
    "    print(x/(m+1))\n",
    "average([1.,10.,13.,12.5,8.8])\n",
    "average(range(100))"
   ]
  },
  {
   "cell_type": "markdown",
   "metadata": {},
   "source": [
    "### Return Statements"
   ]
  },
  {
   "cell_type": "markdown",
   "metadata": {},
   "source": [
    "The program calling a function doesn't know about the values of the variables defined inside of the function. For example, when I last called ```average``` above, the value of ```x``` was 49. However, when I try to print ```x``` outside of the function, I will get an error. "
   ]
  },
  {
   "cell_type": "code",
   "execution_count": 17,
   "metadata": {},
   "outputs": [
    {
     "name": "stdout",
     "output_type": "stream",
     "text": [
      "9.06\n",
      "hello\n"
     ]
    }
   ],
   "source": [
    "def average(my_list):\n",
    "    x=0\n",
    "    for m in range(len(my_list)):\n",
    "        x+=my_list[m]\n",
    "    print(x/(m+1))\n",
    "average([1.,10.,13.,12.5,8.8])\n",
    "print(x)"
   ]
  },
  {
   "cell_type": "markdown",
   "metadata": {},
   "source": [
    "what if I want my program to do additional operations on my function's products? In order for my function to communicate with the program in which it was defined, I can use the ```return``` statement. The return statement appears inside of a function as \n",
    "```\n",
    "def function_name(input_name1,...):\n",
    "    indentedCode\n",
    "    return output_name\n",
    "    indentedCode\n",
    "```\n",
    "where ```output_name``` is the name of the variable inside of the function whose value you want to get out to the program where your function is being called. Here is the ```average``` function which now returns the mean it computes. In the below example, I assign the output of ```average``` to a new float variable ```y``` which I can then further manipulate (for example, I can perform some additional math on ```y```. "
   ]
  },
  {
   "cell_type": "code",
   "execution_count": 18,
   "metadata": {},
   "outputs": [
    {
     "name": "stdout",
     "output_type": "stream",
     "text": [
      "4.5\n",
      "11.0\n"
     ]
    }
   ],
   "source": [
    "def average(my_list):\n",
    "    x=0\n",
    "    for m in range(len(my_list)):\n",
    "        x+=my_list[m]\n",
    "    return(x/(m+1))\n",
    "numbers=[0.,1.,2.,15.]\n",
    "\n",
    "y=average(numbers)\n",
    "print(y)\n",
    "print((y+1)*2.)"
   ]
  },
  {
   "cell_type": "markdown",
   "metadata": {},
   "source": [
    "## Exercise: Fibonacci Numbers"
   ]
  },
  {
   "cell_type": "markdown",
   "metadata": {},
   "source": [
    "Write a function called ```fibonacci``` that takes as an argument an integer $n\\geq 0$ and returns the $n^{th}$ Fibonacci number. Fibonacci numbers are a set of integers defined by the sequence\n",
    "\\begin{equation}\n",
    "F_n=\n",
    "\\begin{cases}\n",
    "F_{n-1}+F_{n-2}  & n>1\\\\\n",
    "0 & n=0\\\\\n",
    "1 & n=1\n",
    "\\end{cases}\n",
    "\\end{equation}"
   ]
  },
  {
   "cell_type": "markdown",
   "metadata": {},
   "source": [
    "## Solution:"
   ]
  },
  {
   "cell_type": "code",
   "execution_count": 18,
   "metadata": {
    "ExecuteTime": {
     "end_time": "2019-07-16T05:41:41.348983Z",
     "start_time": "2019-07-16T05:41:41.343817Z"
    }
   },
   "outputs": [
    {
     "name": "stdout",
     "output_type": "stream",
     "text": [
      "0\n",
      "1\n",
      "1\n",
      "2\n",
      "3\n",
      "5\n",
      "8\n",
      "13\n",
      "21\n",
      "34\n"
     ]
    }
   ],
   "source": [
    "def fibonacci(n):\n",
    "    '''\n",
    "    Computes nth fibonacci number \n",
    "    Args: \n",
    "        n, integer, order of fibonacci number to compute\n",
    "    Returns:\n",
    "        nth fibonai number, integer. \n",
    "    '''\n",
    "    if n == 0:\n",
    "        return 0\n",
    "    elif n == 1:\n",
    "        return 1\n",
    "    else:\n",
    "        return fibonacci(n-1) + fibonacci(n-2)\n",
    "for m in range(10):\n",
    "    print(fibonacci(m))"
   ]
  },
  {
   "cell_type": "markdown",
   "metadata": {},
   "source": [
    "## Exercise: Binomial Coefficients"
   ]
  },
  {
   "cell_type": "markdown",
   "metadata": {},
   "source": [
    "Write a function ```binomial``` that takes as its argument an integer ```n``` and returns a list of all $k^{th}$ binomial coefficients with $k<=n$ for that positive integer $n$. The $k^{th}$ binomial coefficient for integer $n$ is defined as\n",
    "\\begin{equation}\n",
    "\\begin{pmatrix} n \\\\ k \\end{pmatrix}= \\frac{n!}{k!(n-k)!} \n",
    "\\end{equation}"
   ]
  },
  {
   "cell_type": "markdown",
   "metadata": {},
   "source": [
    "## Solution:"
   ]
  },
  {
   "cell_type": "code",
   "execution_count": 32,
   "metadata": {
    "ExecuteTime": {
     "end_time": "2019-07-16T05:53:13.095711Z",
     "start_time": "2019-07-16T05:53:13.091621Z"
    }
   },
   "outputs": [],
   "source": [
    "def factorial(k):\n",
    "    '''\n",
    "    Calculate the factorial of an integer, k. \n",
    "    Args:\n",
    "        k, integer\n",
    "    Returns:\n",
    "        k!\n",
    "    '''\n",
    "    if k <= 1:\n",
    "        return 1\n",
    "    else:\n",
    "        return k * factorial(k-1)\n",
    "\n",
    "def binomial(n):\n",
    "    '''\n",
    "    Calculates the binomial coefficient (n choose k) for all k less than n.\n",
    "    Args:\n",
    "        n, n in nchoose k\n",
    "    Returns:\n",
    "        list of all binomial coefficients (n choose k) for k < n. \n",
    "    '''\n",
    "    output = []\n",
    "    for k in range(1,n+1):\n",
    "        output = output + [factorial(n)/(factorial(k)*factorial(n-k))]\n",
    "    return output"
   ]
  },
  {
   "cell_type": "markdown",
   "metadata": {},
   "source": [
    "## Exercise: Exponential Function"
   ]
  },
  {
   "cell_type": "markdown",
   "metadata": {},
   "source": [
    "Write a function ```exponent``` which takes as its arguments a number ```x<1``` and an integer ```n``` that approximates the function $e^x$ by computing the taylor series of $e^x$ out to the $n^{th}$ term. \n",
    "\\begin{equation}\n",
    "e^x = \\sum_{k=0}^{\\infty} \\frac{x^k}{k!}\n",
    "\\end{equation}"
   ]
  },
  {
   "cell_type": "markdown",
   "metadata": {},
   "source": [
    "### Solution:"
   ]
  },
  {
   "cell_type": "code",
   "execution_count": 36,
   "metadata": {
    "ExecuteTime": {
     "end_time": "2019-07-16T05:55:16.042663Z",
     "start_time": "2019-07-16T05:55:16.039683Z"
    }
   },
   "outputs": [],
   "source": [
    "def exponent(x,n):\n",
    "    '''\n",
    "    Calculate the nth order approximation of an exponent. \n",
    "    Args: \n",
    "        n, integer, order of the exponential to calculate\n",
    "        x, float < 1, position to evaluate the exponent at \n",
    "    Returns:\n",
    "        float, nth oerder exponential approximation. \n",
    "    '''\n",
    "    output = 0. \n",
    "    for k in range(n+1):\n",
    "        output = output + x ** k / factorial(k)\n",
    "    return output"
   ]
  },
  {
   "cell_type": "code",
   "execution_count": 42,
   "metadata": {
    "ExecuteTime": {
     "end_time": "2019-07-16T05:55:49.188831Z",
     "start_time": "2019-07-16T05:55:49.185294Z"
    }
   },
   "outputs": [
    {
     "name": "stdout",
     "output_type": "stream",
     "text": [
      "1.6487212706873655\n",
      "1.6487212707001282\n"
     ]
    }
   ],
   "source": [
    "print(exponent(0.5,10))\n",
    "print(np.exp(0.5))"
   ]
  },
  {
   "cell_type": "markdown",
   "metadata": {},
   "source": [
    "## Numpy Arrays"
   ]
  },
  {
   "cell_type": "markdown",
   "metadata": {},
   "source": [
    "Numpy arrays are a specialized type of array (similar to lists) for storing numerical data which are optimized to be written to and read from much faster. In addition, numpy arrays take up less space and there a large number of useful functions in the ```numpy``` library (see https://docs.scipy.org/doc/numpy-1.13.0/index.html ) for manipulating these arrays (such as dot-products, matrix multiplication, vector operations, and statistical functions such as means, covariances, to name a few). numpy arrays, and the functions used to manipulate them are stored in the ```numpy``` module. A moduel is an external ```.py``` file which contains functions, classes, and variables that we might want to use in our own code. To access a module, we use the ```import``` command which goes as \n",
    "```\n",
    "import module_name as var_name\n",
    "```\n",
    "this will import the module and store it in our program under the name ```var_name```. Let's import ```numpy``` and store it with the name ```np```."
   ]
  },
  {
   "cell_type": "code",
   "execution_count": 37,
   "metadata": {
    "ExecuteTime": {
     "end_time": "2019-07-16T05:55:17.946752Z",
     "start_time": "2019-07-16T05:55:17.768540Z"
    }
   },
   "outputs": [],
   "source": [
    "import numpy as np"
   ]
  },
  {
   "cell_type": "markdown",
   "metadata": {},
   "source": [
    "Let's start out by making some numpy arrays. And demonstrating a very convenient feature for these arrays. "
   ]
  },
  {
   "cell_type": "code",
   "execution_count": 38,
   "metadata": {
    "ExecuteTime": {
     "end_time": "2019-07-16T05:55:19.032073Z",
     "start_time": "2019-07-16T05:55:19.020686Z"
    }
   },
   "outputs": [
    {
     "name": "stdout",
     "output_type": "stream",
     "text": [
      "[2 5 3 8]\n"
     ]
    }
   ],
   "source": [
    "x=np.array([0,1,2,3])#create array x\n",
    "y=np.array([2,4,1,5])#create array y\n",
    "z=x+y\n",
    "print(z)"
   ]
  },
  {
   "cell_type": "markdown",
   "metadata": {},
   "source": [
    "Notice that the code ```x+y``` just added two of these arrays together which resulted in a third array whose elements were the sums of each element in ```x``` and ```y```. To do the same thing with an ordinary list, we would have had to have looped through each element in the two lists and added them together. ```numpy``` arrays let us reduce a task that would have taken several lines of code into just a one short line. You can also subtract, multiply, exponentiate, and divide arrays using the usual arithmatic commands. "
   ]
  },
  {
   "cell_type": "code",
   "execution_count": 39,
   "metadata": {
    "ExecuteTime": {
     "end_time": "2019-07-16T05:55:20.031384Z",
     "start_time": "2019-07-16T05:55:20.025442Z"
    }
   },
   "outputs": [
    {
     "name": "stdout",
     "output_type": "stream",
     "text": [
      "1\n",
      "3\n",
      "[2 3]\n"
     ]
    }
   ],
   "source": [
    "x=np.array([0,1,2,3])#create array x\n",
    "y=np.array([2,4,1,5])#create array y\n",
    "print(y[2])\n",
    "print(x[-1])\n",
    "print(x[2:4])"
   ]
  },
  {
   "cell_type": "markdown",
   "metadata": {},
   "source": [
    "### Higher dimensional arrays."
   ]
  },
  {
   "cell_type": "markdown",
   "metadata": {},
   "source": [
    "We can also create matrices in numpy by providing it with lists of lists. "
   ]
  },
  {
   "cell_type": "code",
   "execution_count": 43,
   "metadata": {
    "ExecuteTime": {
     "end_time": "2019-07-16T05:55:57.159057Z",
     "start_time": "2019-07-16T05:55:57.154324Z"
    }
   },
   "outputs": [
    {
     "name": "stdout",
     "output_type": "stream",
     "text": [
      "[[12  6  3]\n",
      " [21  6  9]\n",
      " [15 27  9]]\n",
      "[[ 32   8   2]\n",
      " [ 98   8  18]\n",
      " [ 50 162  18]]\n",
      "[[ 70  42  26]\n",
      " [114  90  44]\n",
      " [196 110  82]]\n"
     ]
    }
   ],
   "source": [
    "x=np.array([[4,2,1],[7,2,3],[5,9,3]])\n",
    "y=2*x\n",
    "print(x+y)\n",
    "print(x*y)\n",
    "print(np.dot(x,y))"
   ]
  },
  {
   "cell_type": "markdown",
   "metadata": {},
   "source": [
    "the last function, ```np.dot``` performed matrix multiplication between ```x``` and ```y```."
   ]
  },
  {
   "cell_type": "markdown",
   "metadata": {},
   "source": [
    "A convenient way to create empty arrays is with the ```zeros()``` function. The command\n",
    "```np.zeros((dim1,dim2,...,dimn))``` will create a dim1$\\times$dim2$\\times$...$\\times$dimn array filled with zeros. The ```ones``` command does the same thing with every element set equal to one. "
   ]
  },
  {
   "cell_type": "code",
   "execution_count": 44,
   "metadata": {
    "ExecuteTime": {
     "end_time": "2019-07-16T05:55:58.613603Z",
     "start_time": "2019-07-16T05:55:58.608844Z"
    }
   },
   "outputs": [
    {
     "name": "stdout",
     "output_type": "stream",
     "text": [
      "[0. 0.]\n",
      "[[0. 0. 0.]\n",
      " [0. 0. 0.]]\n",
      "[[[1. 1. 1.]\n",
      "  [1. 1. 1.]]\n",
      "\n",
      " [[1. 1. 1.]\n",
      "  [1. 1. 1.]]]\n"
     ]
    }
   ],
   "source": [
    "x=np.zeros((2))#create array x\n",
    "y=np.zeros((2,3))#create array y\n",
    "z=np.ones((2,2,3))\n",
    "print(x)\n",
    "print(y)\n",
    "print(z)"
   ]
  },
  {
   "cell_type": "markdown",
   "metadata": {},
   "source": [
    "We can access elements of multi-dimensional arrays using the notation ```array_name[i1,i2,i3,...,in]```. Similarly, we can access sub-arrays using the notation ```array_name[l1:u1,i2:u2,...]```"
   ]
  },
  {
   "cell_type": "code",
   "execution_count": 45,
   "metadata": {
    "ExecuteTime": {
     "end_time": "2019-07-16T05:55:59.585836Z",
     "start_time": "2019-07-16T05:55:59.581532Z"
    }
   },
   "outputs": [
    {
     "name": "stdout",
     "output_type": "stream",
     "text": [
      "0.0\n",
      "[[0. 0. 0.]]\n"
     ]
    }
   ],
   "source": [
    "x=np.zeros((2,3))\n",
    "print(x[1,0])\n",
    "print(x[0:1,:])"
   ]
  },
  {
   "cell_type": "markdown",
   "metadata": {},
   "source": [
    "## Plotting"
   ]
  },
  {
   "cell_type": "markdown",
   "metadata": {},
   "source": [
    "A very common library for plotting is known as `matplotlib.pyplot`. We can import it with"
   ]
  },
  {
   "cell_type": "code",
   "execution_count": 46,
   "metadata": {
    "ExecuteTime": {
     "end_time": "2019-07-16T05:56:01.343228Z",
     "start_time": "2019-07-16T05:56:00.955994Z"
    }
   },
   "outputs": [],
   "source": [
    "import matplotlib.pyplot as plt"
   ]
  },
  {
   "cell_type": "markdown",
   "metadata": {},
   "source": [
    "Let's try plotting our exponential function."
   ]
  },
  {
   "cell_type": "code",
   "execution_count": 47,
   "metadata": {
    "ExecuteTime": {
     "end_time": "2019-07-16T05:56:02.773920Z",
     "start_time": "2019-07-16T05:56:02.577494Z"
    }
   },
   "outputs": [
    {
     "data": {
      "text/plain": [
       "Text(0,0.5,'exp(x)')"
      ]
     },
     "execution_count": 47,
     "metadata": {},
     "output_type": "execute_result"
    },
    {
     "data": {
      "image/png": "[encoded data removed]",
      "text/plain": [
       "<Figure size 432x288 with 1 Axes>"
      ]
     },
     "metadata": {
      "needs_background": "light"
     },
     "output_type": "display_data"
    }
   ],
   "source": [
    "x=np.linspace(0.,1,100)\n",
    "y=np.zeros_like(x)\n",
    "for m in range(len(x)):\n",
    "    y[m]=exponent(x[m],5)\n",
    "    \n",
    "plt.plot(x,y)\n",
    "plt.plot(x,np.exp(x))\n",
    "plt.xlabel('x')\n",
    "plt.ylabel('exp(x)')"
   ]
  },
  {
   "cell_type": "markdown",
   "metadata": {},
   "source": [
    "## Exercise "
   ]
  },
  {
   "cell_type": "markdown",
   "metadata": {},
   "source": [
    "Try plotting the fractional Error between your exponential function, and the numpy version for several different values of `n`. "
   ]
  },
  {
   "cell_type": "markdown",
   "metadata": {},
   "source": [
    "### Solution"
   ]
  },
  {
   "cell_type": "code",
   "execution_count": 51,
   "metadata": {
    "ExecuteTime": {
     "end_time": "2019-07-16T05:58:48.283749Z",
     "start_time": "2019-07-16T05:58:48.074243Z"
    }
   },
   "outputs": [
    {
     "data": {
      "text/plain": [
       "Text(0,0.5,'Fractional Error')"
      ]
     },
     "execution_count": 51,
     "metadata": {},
     "output_type": "execute_result"
    },
    {
     "data": {
      "image/png": "[encoded data removed]",
      "text/plain": [
       "<Figure size 432x288 with 1 Axes>"
      ]
     },
     "metadata": {
      "needs_background": "light"
     },
     "output_type": "display_data"
    }
   ],
   "source": [
    "for n in [1, 4, 8, 16]:\n",
    "    fractional_error = np.zeros_like(x)\n",
    "    for m in range(len(x)):\n",
    "        fractional_error[m] = np.abs(exponent(x[m], n) - np.exp(x[m]))/np.exp(x[m])\n",
    "    plt.plot(x, fractional_error, label = 'n = %d'%n)\n",
    "plt.legend()\n",
    "plt.xlabel('x')\n",
    "plt.ylabel('Fractional Error')"
   ]
  },
  {
   "cell_type": "code",
   "execution_count": null,
   "metadata": {},
   "outputs": [],
   "source": []
  }
 ],
 "metadata": {
  "kernelspec": {
   "display_name": "Python 3",
   "language": "python",
   "name": "python3"
  },
  "language_info": {
   "codemirror_mode": {
    "name": "ipython",
    "version": 3
   },
   "file_extension": ".py",
   "mimetype": "text/x-python",
   "name": "python",
   "nbconvert_exporter": "python",
   "pygments_lexer": "ipython3",
   "version": "3.6.7"
  }
 },
 "nbformat": 4,
 "nbformat_minor": 2
}
